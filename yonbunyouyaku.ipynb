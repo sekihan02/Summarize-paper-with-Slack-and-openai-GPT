{
 "cells": [
  {
   "cell_type": "code",
   "execution_count": 1,
   "id": "8707ecdb-7745-4069-b98a-2058ef7b901f",
   "metadata": {},
   "outputs": [
    {
     "name": "stdout",
     "output_type": "stream",
     "text": [
      "Requirement already satisfied: slack_sdk in /usr/local/lib/python3.8/dist-packages (3.21.0)\n",
      "\u001b[33mWARNING: Running pip as the 'root' user can result in broken permissions and conflicting behaviour with the system package manager. It is recommended to use a virtual environment instead: https://pip.pypa.io/warnings/venv\u001b[0m\u001b[33m\n",
      "\u001b[0m"
     ]
    }
   ],
   "source": [
    "!pip3 install slack_sdk"
   ]
  },
  {
   "cell_type": "code",
   "execution_count": 2,
   "id": "8a8f9f0d-b5c9-4536-9b2c-64c2ca9653b3",
   "metadata": {},
   "outputs": [
    {
     "name": "stdout",
     "output_type": "stream",
     "text": [
      "Requirement already satisfied: arxiv in /usr/local/lib/python3.8/dist-packages (1.4.3)\n",
      "Requirement already satisfied: feedparser in /usr/local/lib/python3.8/dist-packages (from arxiv) (6.0.10)\n",
      "Requirement already satisfied: sgmllib3k in /usr/local/lib/python3.8/dist-packages (from feedparser->arxiv) (1.0.0)\n",
      "\u001b[33mWARNING: Running pip as the 'root' user can result in broken permissions and conflicting behaviour with the system package manager. It is recommended to use a virtual environment instead: https://pip.pypa.io/warnings/venv\u001b[0m\u001b[33m\n",
      "\u001b[0m"
     ]
    }
   ],
   "source": [
    "!pip3 install arxiv"
   ]
  },
  {
   "cell_type": "code",
   "execution_count": 3,
   "id": "f726c930-7060-42f2-9beb-e0e1d9c104ed",
   "metadata": {},
   "outputs": [
    {
     "name": "stdout",
     "output_type": "stream",
     "text": [
      "Requirement already satisfied: openai in /usr/local/lib/python3.8/dist-packages (0.27.4)\n",
      "Requirement already satisfied: tqdm in /usr/local/lib/python3.8/dist-packages (from openai) (4.65.0)\n",
      "Requirement already satisfied: aiohttp in /usr/local/lib/python3.8/dist-packages (from openai) (3.8.4)\n",
      "Requirement already satisfied: requests>=2.20 in /usr/lib/python3/dist-packages (from openai) (2.22.0)\n",
      "Requirement already satisfied: multidict<7.0,>=4.5 in /usr/local/lib/python3.8/dist-packages (from aiohttp->openai) (6.0.4)\n",
      "Requirement already satisfied: yarl<2.0,>=1.0 in /usr/local/lib/python3.8/dist-packages (from aiohttp->openai) (1.8.2)\n",
      "Requirement already satisfied: charset-normalizer<4.0,>=2.0 in /usr/local/lib/python3.8/dist-packages (from aiohttp->openai) (3.1.0)\n",
      "Requirement already satisfied: attrs>=17.3.0 in /usr/local/lib/python3.8/dist-packages (from aiohttp->openai) (22.2.0)\n",
      "Requirement already satisfied: aiosignal>=1.1.2 in /usr/local/lib/python3.8/dist-packages (from aiohttp->openai) (1.3.1)\n",
      "Requirement already satisfied: frozenlist>=1.1.1 in /usr/local/lib/python3.8/dist-packages (from aiohttp->openai) (1.3.3)\n",
      "Requirement already satisfied: async-timeout<5.0,>=4.0.0a3 in /usr/local/lib/python3.8/dist-packages (from aiohttp->openai) (4.0.2)\n",
      "Requirement already satisfied: idna>=2.0 in /usr/lib/python3/dist-packages (from yarl<2.0,>=1.0->aiohttp->openai) (2.8)\n",
      "\u001b[33mWARNING: Running pip as the 'root' user can result in broken permissions and conflicting behaviour with the system package manager. It is recommended to use a virtual environment instead: https://pip.pypa.io/warnings/venv\u001b[0m\u001b[33m\n",
      "\u001b[0m"
     ]
    }
   ],
   "source": [
    "!pip3 install openai"
   ]
  },
  {
   "cell_type": "markdown",
   "id": "5bc9f605-7fd7-4353-a052-a8c679f259d6",
   "metadata": {},
   "source": [
    "# SlackとopenaiのGPTで論文の要約をする\n",
    "\n",
    "## Reference\n",
    "- [Slack API を使用してメッセージを投稿する](https://zenn.dev/kou_pg_0131/articles/slack-api-post-message)\n",
    "- [【Slack】インストールするボットユーザーがありませんと出たときの対処方法](https://the-simple.jp/slack-nobotuser#Step1Bot)"
   ]
  },
  {
   "cell_type": "code",
   "execution_count": 4,
   "id": "53335cc1-4265-458a-9530-c3330f5654b1",
   "metadata": {},
   "outputs": [],
   "source": [
    "import os\n",
    "from slack_sdk import WebClient\n",
    "from slack_sdk.errors import SlackApiError\n",
    "import arxiv\n",
    "import openai\n",
    "import random\n"
   ]
  },
  {
   "cell_type": "code",
   "execution_count": 5,
   "id": "22e06e29-7297-48bb-9d62-4da8d6ebb52e",
   "metadata": {},
   "outputs": [],
   "source": [
    "#OpenAIのapiキー\n",
    "openai.api_key = 'API_TOKEN'\n",
    "# Slack APIトークン\n",
    "\n",
    "SLACK_API_TOKEN = 'SLACK_API_TOKEN'\n",
    "# Slackに投稿するチャンネル名を指定する\n",
    "SLACK_CHANNEL = \"CHANNEL_NAME\"\n"
   ]
  },
  {
   "cell_type": "code",
   "execution_count": 6,
   "id": "e0ebe6d8-3518-49cc-9529-616c5f189812",
   "metadata": {},
   "outputs": [],
   "source": [
    "\n",
    "def get_summary(result):\n",
    "    system = \"\"\"与えられた論文の要点を3点のみでまとめ、以下のフォーマットで日本語で出力してください。```\n",
    "    タイトルの日本語訳\n",
    "    ・要点1\n",
    "    ・要点2\n",
    "    ・要点3\n",
    "    ```\"\"\"\n",
    "\n",
    "    text = f\"title: {result.title}\\nbody: {result.summary}\"\n",
    "    response = openai.ChatCompletion.create(\n",
    "                model=\"gpt-3.5-turbo\",\n",
    "                messages=[\n",
    "                    {'role': 'system', 'content': system},\n",
    "                    {'role': 'user', 'content': text}\n",
    "                ],\n",
    "                temperature=0.25,\n",
    "            )\n",
    "    summary = response['choices'][0]['message']['content']\n",
    "    title_en = result.title\n",
    "    title, *body = summary.split('\\n')\n",
    "    body = '\\n'.join(body)\n",
    "    date_str = result.published.strftime(\"%Y-%m-%d %H:%M:%S\")\n",
    "    message = f\"発行日: {date_str}\\n{result.entry_id}\\n{title_en}\\n{title}\\n{body}\\n\"\n",
    "    \n",
    "    return message\n",
    "\n",
    "# def main(event, context):\n",
    "def main():\n",
    "    # Slack APIクライアントを初期化する\n",
    "    client = WebClient(token=SLACK_API_TOKEN)\n",
    "    #queryを用意、今回は、三種類のqueryを用意\n",
    "    query ='ti:%22 Deep Learning %22'\n",
    "\n",
    "    # arxiv APIで最新の論文情報を取得する\n",
    "    search = arxiv.Search(\n",
    "        query=query,  # 検索クエリ（\n",
    "        max_results=100,  # 取得する論文数\n",
    "        sort_by=arxiv.SortCriterion.SubmittedDate,  # 論文を投稿された日付でソートする\n",
    "        sort_order=arxiv.SortOrder.Descending,  # 新しい論文から順に取得する\n",
    "    )\n",
    "    #searchの結果をリストに格納\n",
    "    result_list = []\n",
    "    for result in search.results():\n",
    "        result_list.append(result)\n",
    "    #ランダムにnum_papersの数だけ選ぶ\n",
    "    num_papers = 3\n",
    "    results = random.sample(result_list, k=num_papers)\n",
    "    \n",
    "    # 論文情報をSlackに投稿する\n",
    "    for i,result in enumerate(results):\n",
    "        try:\n",
    "            # Slackに投稿するメッセージを組み立てる\n",
    "            message = \"今日の論文です！ \" + str(i+1) + \"本目\\n\" + get_summary(result)\n",
    "            # Slackにメッセージを投稿する\n",
    "            response = client.chat_postMessage(\n",
    "                channel=SLACK_CHANNEL,\n",
    "                text=message\n",
    "            )\n",
    "            print(f\"Message posted: {response['ts']}\")\n",
    "        except SlackApiError as e:\n",
    "            print(f\"Error posting message: {e}\")"
   ]
  },
  {
   "cell_type": "code",
   "execution_count": 7,
   "id": "d50fa260-b6a7-4e2c-b7bd-5038ab8f5d18",
   "metadata": {},
   "outputs": [
    {
     "name": "stdout",
     "output_type": "stream",
     "text": [
      "Message posted: 1681164084.622679\n",
      "Message posted: 1681164095.540849\n",
      "Message posted: 1681164102.893149\n"
     ]
    }
   ],
   "source": [
    "main()"
   ]
  },
  {
   "cell_type": "code",
   "execution_count": null,
   "id": "3b0af268-b7f4-4dfc-9b94-2ac535d31f6b",
   "metadata": {},
   "outputs": [],
   "source": []
  }
 ],
 "metadata": {
  "kernelspec": {
   "display_name": "Python 3 (ipykernel)",
   "language": "python",
   "name": "python3"
  },
  "language_info": {
   "codemirror_mode": {
    "name": "ipython",
    "version": 3
   },
   "file_extension": ".py",
   "mimetype": "text/x-python",
   "name": "python",
   "nbconvert_exporter": "python",
   "pygments_lexer": "ipython3",
   "version": "3.8.10"
  }
 },
 "nbformat": 4,
 "nbformat_minor": 5
}
