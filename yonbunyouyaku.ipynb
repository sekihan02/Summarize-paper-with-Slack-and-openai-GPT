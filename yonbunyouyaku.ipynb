{
 "cells": [
  {
   "cell_type": "code",
   "execution_count": 1,
   "id": "8707ecdb-7745-4069-b98a-2058ef7b901f",
   "metadata": {},
   "outputs": [
    {
     "name": "stdout",
     "output_type": "stream",
     "text": [
      "Requirement already satisfied: slack_sdk==3.21.0 in /usr/local/lib/python3.8/dist-packages (3.21.0)\n",
      "\u001b[33mWARNING: Running pip as the 'root' user can result in broken permissions and conflicting behaviour with the system package manager. It is recommended to use a virtual environment instead: https://pip.pypa.io/warnings/venv\u001b[0m\u001b[33m\n",
      "\u001b[0m"
     ]
    }
   ],
   "source": [
    "!pip3 install slack_sdk==3.21.0"
   ]
  },
  {
   "cell_type": "code",
   "execution_count": 2,
   "id": "8a8f9f0d-b5c9-4536-9b2c-64c2ca9653b3",
   "metadata": {},
   "outputs": [
    {
     "name": "stdout",
     "output_type": "stream",
     "text": [
      "Requirement already satisfied: arxiv==1.4.4 in /usr/local/lib/python3.8/dist-packages (1.4.4)\n",
      "Requirement already satisfied: feedparser in /usr/local/lib/python3.8/dist-packages (from arxiv==1.4.4) (6.0.10)\n",
      "Requirement already satisfied: sgmllib3k in /usr/local/lib/python3.8/dist-packages (from feedparser->arxiv==1.4.4) (1.0.0)\n",
      "\u001b[33mWARNING: Running pip as the 'root' user can result in broken permissions and conflicting behaviour with the system package manager. It is recommended to use a virtual environment instead: https://pip.pypa.io/warnings/venv\u001b[0m\u001b[33m\n",
      "\u001b[0m"
     ]
    }
   ],
   "source": [
    "!pip3 install arxiv==1.4.4"
   ]
  },
  {
   "cell_type": "code",
   "execution_count": 3,
   "id": "f726c930-7060-42f2-9beb-e0e1d9c104ed",
   "metadata": {},
   "outputs": [
    {
     "name": "stdout",
     "output_type": "stream",
     "text": [
      "Requirement already satisfied: openai==0.27.4 in /usr/local/lib/python3.8/dist-packages (0.27.4)\n",
      "Requirement already satisfied: aiohttp in /usr/local/lib/python3.8/dist-packages (from openai==0.27.4) (3.8.4)\n",
      "Requirement already satisfied: tqdm in /usr/local/lib/python3.8/dist-packages (from openai==0.27.4) (4.65.0)\n",
      "Requirement already satisfied: requests>=2.20 in /usr/lib/python3/dist-packages (from openai==0.27.4) (2.22.0)\n",
      "Requirement already satisfied: frozenlist>=1.1.1 in /usr/local/lib/python3.8/dist-packages (from aiohttp->openai==0.27.4) (1.3.3)\n",
      "Requirement already satisfied: attrs>=17.3.0 in /usr/local/lib/python3.8/dist-packages (from aiohttp->openai==0.27.4) (22.2.0)\n",
      "Requirement already satisfied: charset-normalizer<4.0,>=2.0 in /usr/local/lib/python3.8/dist-packages (from aiohttp->openai==0.27.4) (3.1.0)\n",
      "Requirement already satisfied: yarl<2.0,>=1.0 in /usr/local/lib/python3.8/dist-packages (from aiohttp->openai==0.27.4) (1.8.2)\n",
      "Requirement already satisfied: async-timeout<5.0,>=4.0.0a3 in /usr/local/lib/python3.8/dist-packages (from aiohttp->openai==0.27.4) (4.0.2)\n",
      "Requirement already satisfied: aiosignal>=1.1.2 in /usr/local/lib/python3.8/dist-packages (from aiohttp->openai==0.27.4) (1.3.1)\n",
      "Requirement already satisfied: multidict<7.0,>=4.5 in /usr/local/lib/python3.8/dist-packages (from aiohttp->openai==0.27.4) (6.0.4)\n",
      "Requirement already satisfied: idna>=2.0 in /usr/lib/python3/dist-packages (from yarl<2.0,>=1.0->aiohttp->openai==0.27.4) (2.8)\n",
      "\u001b[33mWARNING: Running pip as the 'root' user can result in broken permissions and conflicting behaviour with the system package manager. It is recommended to use a virtual environment instead: https://pip.pypa.io/warnings/venv\u001b[0m\u001b[33m\n",
      "\u001b[0m"
     ]
    }
   ],
   "source": [
    "!pip3 install openai==0.27.4"
   ]
  },
  {
   "cell_type": "markdown",
   "id": "a68d5ff7-db55-447c-88fc-9757af9a09d9",
   "metadata": {},
   "source": [
    "# SlackとopenaiのGPTで論文の要約をする\n",
    "\n",
    "## Reference\n",
    "- [最新の論文をChatGPTで要約して毎朝Slackに共有してくれるbotを作る！](https://zenn.dev/ozushi/articles/ebe3f47bf50a86)\n",
    "- [Slack API を使用してメッセージを投稿する](https://zenn.dev/kou_pg_0131/articles/slack-api-post-message)\n",
    "- [【Slack】インストールするボットユーザーがありませんと出たときの対処方法](https://the-simple.jp/slack-nobotuser#Step1Bot)"
   ]
  },
  {
   "cell_type": "code",
   "execution_count": 4,
   "id": "53335cc1-4265-458a-9530-c3330f5654b1",
   "metadata": {},
   "outputs": [],
   "source": [
    "import os\n",
    "import random\n",
    "import time\n",
    "\n",
    "from slack_sdk import WebClient\n",
    "from slack_sdk.errors import SlackApiError\n",
    "import arxiv\n",
    "import openai"
   ]
  },
  {
   "cell_type": "code",
   "execution_count": 5,
   "id": "22e06e29-7297-48bb-9d62-4da8d6ebb52e",
   "metadata": {},
   "outputs": [],
   "source": [
    "#OpenAIのapiキー\n",
    "openai.api_key = 'OPEN_API_KEY'\n",
    "# Slack APIトークン\n",
    "\n",
    "SLACK_API_TOKEN = 'SLACK_API_TOKEN'    # ユーザーとして API を実行するためのトークン \n",
    "# Slackに投稿するチャンネル名を指定する\n",
    "SLACK_CHANNEL = \"SLACK_CHANNEL\""
   ]
  },
  {
   "cell_type": "code",
   "execution_count": 6,
   "id": "e0ebe6d8-3518-49cc-9529-616c5f189812",
   "metadata": {},
   "outputs": [],
   "source": [
    "def get_summary(result):\n",
    "    system = \"\"\"与えられた論文の全体を128文字以内にまとめた後、タイトルと原文とその日本語訳、論文リンク、著者/所属機関、投稿日付 (yyyy/MM/dd)、概要、新規性や差分、独特の手法、実験結果を以下のフォーマットで日本語で出力してください。```\n",
    "    # タイトルの日本語訳\n",
    "    ## 一言でいうと\n",
    "    ---\n",
    "    ### 概要\n",
    "    ### 新規性・差分\n",
    "    ### 手法\n",
    "    ### 結果\n",
    "    ### コメント\n",
    "    ```\"\"\"\n",
    "\n",
    "    text = f\"title: {result.title}\\nbody: {result.summary}\"\n",
    "    response = openai.ChatCompletion.create(\n",
    "                model=\"gpt-3.5-turbo\",\n",
    "                messages=[\n",
    "                    {'role': 'system', 'content': system},\n",
    "                    {'role': 'user', 'content': text}\n",
    "                ],\n",
    "                temperature=0.25,\n",
    "            )\n",
    "    summary = response['choices'][0]['message']['content']\n",
    "    title_en = result.title\n",
    "    title, *body = summary.split('\\n')\n",
    "    body = '\\n'.join(body)\n",
    "    date_str = result.published.strftime(\"%Y-%m-%d %H:%M:%S\")\n",
    "    message = f\"発行日: {date_str}\\n{result.entry_id}\\n{title_en}\\n{title}\\n{body}\\n\"\n",
    "    \n",
    "    return message\n"
   ]
  },
  {
   "cell_type": "code",
   "execution_count": 7,
   "id": "3b0af268-b7f4-4dfc-9b94-2ac535d31f6b",
   "metadata": {},
   "outputs": [],
   "source": [
    "# Slack APIクライアントを初期化する\n",
    "client = WebClient(token=SLACK_API_TOKEN)\n",
    "#queryを用意\n",
    "query_list = ['ti:%22 Anomaly Detection %22', 'ti:%22 AIOps %22']\n",
    "message_list = ['Anomaly Detection', 'AIOps']"
   ]
  },
  {
   "cell_type": "code",
   "execution_count": null,
   "id": "2aafaf00-afb4-4ce4-83cf-868143c3c76f",
   "metadata": {},
   "outputs": [
    {
     "name": "stdout",
     "output_type": "stream",
     "text": [
      "Message posted: 1681223115.977069\n"
     ]
    }
   ],
   "source": [
    "for j in range(len(query_list)):\n",
    "    query = query_list[j]\n",
    "    # arxiv APIで最新の論文情報を取得する\n",
    "    search = arxiv.Search(\n",
    "        query=query,  # 検索クエリ（\n",
    "        max_results=100,  # 取得する論文数\n",
    "        sort_by=arxiv.SortCriterion.SubmittedDate,  # 論文を投稿された日付でソートする\n",
    "        sort_order=arxiv.SortOrder.Descending,  # 新しい論文から順に取得する\n",
    "    )\n",
    "    \n",
    "    #searchの結果をリストに格納\n",
    "    result_list = []\n",
    "    for result in search.results():\n",
    "        result_list.append(result)\n",
    "\n",
    "    #ランダムにnum_papersの数だけ選ぶ\n",
    "    num_papers = 5\n",
    "    results = random.sample(result_list, k=num_papers)\n",
    "    \n",
    "    # 論文情報をSlackに投稿する\n",
    "    for i, result in enumerate(results):\n",
    "        try:\n",
    "            today = time.strftime('%Y-%m-%d', time.localtime())\n",
    "            # Slackに投稿するメッセージを組み立てる\n",
    "            message =  \"本日 \" + str(today) + f\"{message_list[j]} の\" + \"論文 \" + str(i+1) + \"本目です\\n\" + get_summary(result)\n",
    "            # Slackにメッセージを投稿する\n",
    "            response = client.chat_postMessage(\n",
    "                channel=SLACK_CHANNEL,\n",
    "                text=message\n",
    "            )\n",
    "            print(f\"Message posted: {response['ts']}\")\n",
    "        except SlackApiError as e:\n",
    "            print(f\"Error posting message: {e}\")"
   ]
  }
 ],
 "metadata": {
  "kernelspec": {
   "display_name": "Python 3 (ipykernel)",
   "language": "python",
   "name": "python3"
  },
  "language_info": {
   "codemirror_mode": {
    "name": "ipython",
    "version": 3
   },
   "file_extension": ".py",
   "mimetype": "text/x-python",
   "name": "python",
   "nbconvert_exporter": "python",
   "pygments_lexer": "ipython3",
   "version": "3.8.10"
  }
 },
 "nbformat": 4,
 "nbformat_minor": 5
}
